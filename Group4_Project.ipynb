{
  "nbformat": 4,
  "nbformat_minor": 0,
  "metadata": {
    "colab": {
      "name": "Group4_Project.ipynb",
      "provenance": [],
      "include_colab_link": true
    },
    "kernelspec": {
      "name": "python3",
      "display_name": "Python 3"
    },
    "language_info": {
      "name": "python"
    }
  },
  "cells": [
    {
      "cell_type": "markdown",
      "metadata": {
        "id": "view-in-github",
        "colab_type": "text"
      },
      "source": [
        "<a href=\"https://colab.research.google.com/github/sofiaIman/Machine-learning-Group4-Tasks/blob/main/Group4_Project.ipynb\" target=\"_parent\"><img src=\"https://colab.research.google.com/assets/colab-badge.svg\" alt=\"Open In Colab\"/></a>"
      ]
    },
    {
      "cell_type": "markdown",
      "metadata": {
        "id": "FGTnZwufl81M"
      },
      "source": [
        "#MNIST-CNN digits classification"
      ]
    },
    {
      "cell_type": "markdown",
      "metadata": {
        "id": "j3-Fw36rmlKc"
      },
      "source": [
        "A Convolutional Neural Networks (CNN) model that classifies handwritten digits as numbers 0 - 9"
      ]
    },
    {
      "cell_type": "markdown",
      "metadata": {
        "id": "GlLQZu07l1z4"
      },
      "source": [
        "MNIST dataset is a dataset of 60,000 28x28 grayscale images of the 10 digits, along with a test set of 10,000 images"
      ]
    },
    {
      "cell_type": "code",
      "metadata": {
        "id": "Lm03XQcok6_Q"
      },
      "source": [
        "#import the libraries\n",
        "import numpy as np\n",
        "from keras.models import Sequential\n",
        "from keras.layers import Dense, Conv2D, Flatten\n",
        "from tensorflow.keras.utils import to_categorical\n",
        "import matplotlib.pyplot as plt"
      ],
      "execution_count": null,
      "outputs": []
    },
    {
      "cell_type": "markdown",
      "metadata": {
        "id": "thUuwdvASgoN"
      },
      "source": [
        "Get the MNIST dataset from keras website"
      ]
    },
    {
      "cell_type": "code",
      "metadata": {
        "id": "TCzDe6_0SdyC"
      },
      "source": [
        "from keras.datasets import mnist"
      ],
      "execution_count": null,
      "outputs": []
    },
    {
      "cell_type": "markdown",
      "metadata": {
        "id": "2yB5Etl9PCy0"
      },
      "source": [
        "Load and split the data into train set and test sets"
      ]
    },
    {
      "cell_type": "code",
      "metadata": {
        "id": "UUjLO88eN9a-"
      },
      "source": [
        "(X_train,y_train), (X_test, y_test) = mnist.load_data()"
      ],
      "execution_count": null,
      "outputs": []
    },
    {
      "cell_type": "markdown",
      "metadata": {
        "id": "OyXjiNTyg_zo"
      },
      "source": [
        "We now have train and test datasets"
      ]
    },
    {
      "cell_type": "markdown",
      "metadata": {
        "id": "bcrS6WAKPb3J"
      },
      "source": [
        "Get the shape of the data"
      ]
    },
    {
      "cell_type": "code",
      "metadata": {
        "colab": {
          "base_uri": "https://localhost:8080/"
        },
        "id": "AkKMJMCKPWIj",
        "outputId": "b0e7adb0-b328-489d-895e-a5cf52fc70b7"
      },
      "source": [
        "print(X_train.shape)\n",
        "print(X_test.shape)"
      ],
      "execution_count": null,
      "outputs": [
        {
          "output_type": "stream",
          "text": [
            "(60000, 28, 28)\n",
            "(10000, 28, 28)\n"
          ],
          "name": "stdout"
        }
      ]
    },
    {
      "cell_type": "markdown",
      "metadata": {
        "id": "Rbg0uHRHPkNT"
      },
      "source": [
        "The X_train contains 60,000 28x28 pixel images while the X_test contains 10,000 28x28 pixel images"
      ]
    },
    {
      "cell_type": "markdown",
      "metadata": {
        "id": "7UYXZpYuQDS0"
      },
      "source": [
        "Taking a look at the last item of the training data"
      ]
    },
    {
      "cell_type": "code",
      "metadata": {
        "colab": {
          "base_uri": "https://localhost:8080/"
        },
        "id": "KR9yx5O2P_oz",
        "outputId": "bdd8bfb6-3973-4726-fd06-645cd07d5d6c"
      },
      "source": [
        "X_train[59999]"
      ],
      "execution_count": null,
      "outputs": [
        {
          "output_type": "execute_result",
          "data": {
            "text/plain": [
              "array([[  0,   0,   0,   0,   0,   0,   0,   0,   0,   0,   0,   0,   0,\n",
              "          0,   0,   0,   0,   0,   0,   0,   0,   0,   0,   0,   0,   0,\n",
              "          0,   0],\n",
              "       [  0,   0,   0,   0,   0,   0,   0,   0,   0,   0,   0,   0,   0,\n",
              "          0,   0,   0,   0,   0,   0,   0,   0,   0,   0,   0,   0,   0,\n",
              "          0,   0],\n",
              "       [  0,   0,   0,   0,   0,   0,   0,   0,   0,   0,   0,   0,   0,\n",
              "          0,   0,   0,   0,   0,   0,   0,   0,   0,   0,   0,   0,   0,\n",
              "          0,   0],\n",
              "       [  0,   0,   0,   0,   0,   0,   0,   0,   0,   0,   0,   0,   0,\n",
              "          0,   0,   0,   0,   0,   0,   0,   0,   0,   0,   0,   0,   0,\n",
              "          0,   0],\n",
              "       [  0,   0,   0,   0,   0,   0,   0,   0,   0,   0,   0,   0,   0,\n",
              "          0,   0,   0,   0,   0,   0,   0,   0,   0,   0,   0,   0,   0,\n",
              "          0,   0],\n",
              "       [  0,   0,   0,   0,   0,   0,   0,   0,   0,   0,   0,   0,   0,\n",
              "          0,   0,   0,   0,   0,   0,   0,   0,   0,   0,   0,   0,   0,\n",
              "          0,   0],\n",
              "       [  0,   0,   0,   0,   0,   0,   0,   0,   0,   0,   0,   0,   0,\n",
              "          0,   0,   0,  38,  48,  48,  22,   0,   0,   0,   0,   0,   0,\n",
              "          0,   0],\n",
              "       [  0,   0,   0,   0,   0,   0,   0,   0,   0,   0,   0,   0,   0,\n",
              "         62,  97, 198, 243, 254, 254, 212,  27,   0,   0,   0,   0,   0,\n",
              "          0,   0],\n",
              "       [  0,   0,   0,   0,   0,   0,   0,   0,   0,   0,   0,   0,  67,\n",
              "        172, 254, 254, 225, 218, 218, 237, 248,  40,   0,  21, 164, 187,\n",
              "          0,   0],\n",
              "       [  0,   0,   0,   0,   0,   0,   0,   0,   0,   0,   0,  89, 219,\n",
              "        254,  97,  67,  14,   0,   0,  92, 231, 122,  23, 203, 236,  59,\n",
              "          0,   0],\n",
              "       [  0,   0,   0,   0,   0,   0,   0,   0,   0,   0,  25, 217, 242,\n",
              "         92,   4,   0,   0,   0,   0,   4, 147, 253, 240, 232,  92,   0,\n",
              "          0,   0],\n",
              "       [  0,   0,   0,   0,   0,   0,   0,   0,   0,   0, 101, 255,  92,\n",
              "          0,   0,   0,   0,   0,   0, 105, 254, 254, 177,  11,   0,   0,\n",
              "          0,   0],\n",
              "       [  0,   0,   0,   0,   0,   0,   0,   0,   0,   0, 167, 244,  41,\n",
              "          0,   0,   0,   7,  76, 199, 238, 239,  94,  10,   0,   0,   0,\n",
              "          0,   0],\n",
              "       [  0,   0,   0,   0,   0,   0,   0,   0,   0,   0, 192, 121,   0,\n",
              "          0,   2,  63, 180, 254, 233, 126,   0,   0,   0,   0,   0,   0,\n",
              "          0,   0],\n",
              "       [  0,   0,   0,   0,   0,   0,   0,   0,   0,   0, 190, 196,  14,\n",
              "          2,  97, 254, 252, 146,  52,   0,   0,   0,   0,   0,   0,   0,\n",
              "          0,   0],\n",
              "       [  0,   0,   0,   0,   0,   0,   0,   0,   0,   0, 130, 225,  71,\n",
              "        180, 232, 181,  60,   0,   0,   0,   0,   0,   0,   0,   0,   0,\n",
              "          0,   0],\n",
              "       [  0,   0,   0,   0,   0,   0,   0,   0,   0,   0, 130, 254, 254,\n",
              "        230,  46,   0,   0,   0,   0,   0,   0,   0,   0,   0,   0,   0,\n",
              "          0,   0],\n",
              "       [  0,   0,   0,   0,   0,   0,   0,   0,   6,  77, 244, 254, 162,\n",
              "          4,   0,   0,   0,   0,   0,   0,   0,   0,   0,   0,   0,   0,\n",
              "          0,   0],\n",
              "       [  0,   0,   0,   0,   0,   0,   0,   0, 110, 254, 218, 254, 116,\n",
              "          0,   0,   0,   0,   0,   0,   0,   0,   0,   0,   0,   0,   0,\n",
              "          0,   0],\n",
              "       [  0,   0,   0,   0,   0,   0,   0, 131, 254, 154,  28, 213,  86,\n",
              "          0,   0,   0,   0,   0,   0,   0,   0,   0,   0,   0,   0,   0,\n",
              "          0,   0],\n",
              "       [  0,   0,   0,   0,   0,   0,  66, 209, 153,  19,  19, 233,  60,\n",
              "          0,   0,   0,   0,   0,   0,   0,   0,   0,   0,   0,   0,   0,\n",
              "          0,   0],\n",
              "       [  0,   0,   0,   0,   0,   0, 142, 254, 165,   0,  14, 216, 167,\n",
              "          0,   0,   0,   0,   0,   0,   0,   0,   0,   0,   0,   0,   0,\n",
              "          0,   0],\n",
              "       [  0,   0,   0,   0,   0,   0,  90, 254, 175,   0,  18, 229,  92,\n",
              "          0,   0,   0,   0,   0,   0,   0,   0,   0,   0,   0,   0,   0,\n",
              "          0,   0],\n",
              "       [  0,   0,   0,   0,   0,   0,  26, 229, 249, 176, 222, 244,  44,\n",
              "          0,   0,   0,   0,   0,   0,   0,   0,   0,   0,   0,   0,   0,\n",
              "          0,   0],\n",
              "       [  0,   0,   0,   0,   0,   0,   0,  73, 193, 197, 134,   0,   0,\n",
              "          0,   0,   0,   0,   0,   0,   0,   0,   0,   0,   0,   0,   0,\n",
              "          0,   0],\n",
              "       [  0,   0,   0,   0,   0,   0,   0,   0,   0,   0,   0,   0,   0,\n",
              "          0,   0,   0,   0,   0,   0,   0,   0,   0,   0,   0,   0,   0,\n",
              "          0,   0],\n",
              "       [  0,   0,   0,   0,   0,   0,   0,   0,   0,   0,   0,   0,   0,\n",
              "          0,   0,   0,   0,   0,   0,   0,   0,   0,   0,   0,   0,   0,\n",
              "          0,   0],\n",
              "       [  0,   0,   0,   0,   0,   0,   0,   0,   0,   0,   0,   0,   0,\n",
              "          0,   0,   0,   0,   0,   0,   0,   0,   0,   0,   0,   0,   0,\n",
              "          0,   0]], dtype=uint8)"
            ]
          },
          "metadata": {},
          "execution_count": 5
        }
      ]
    },
    {
      "cell_type": "markdown",
      "metadata": {
        "id": "R_tdpq0KRB3G"
      },
      "source": [
        "Print the image label of the last item in the train dataset"
      ]
    },
    {
      "cell_type": "code",
      "metadata": {
        "colab": {
          "base_uri": "https://localhost:8080/"
        },
        "id": "_l7ZIF0bQspP",
        "outputId": "20be7bf1-89de-4f54-8b07-c25317cdde5a"
      },
      "source": [
        "y_train[59999]"
      ],
      "execution_count": null,
      "outputs": [
        {
          "output_type": "execute_result",
          "data": {
            "text/plain": [
              "8"
            ]
          },
          "metadata": {},
          "execution_count": 6
        }
      ]
    },
    {
      "cell_type": "markdown",
      "metadata": {
        "id": "0Yudp2GxQ46e"
      },
      "source": [
        "Show the image of the last item of the train dataset"
      ]
    },
    {
      "cell_type": "code",
      "metadata": {
        "colab": {
          "base_uri": "https://localhost:8080/",
          "height": 282
        },
        "id": "_5lWt51pQwJ6",
        "outputId": "6dba4b9d-94b4-4002-b251-74c39fb49a3d"
      },
      "source": [
        "plt.imshow(X_train[59999])"
      ],
      "execution_count": null,
      "outputs": [
        {
          "output_type": "execute_result",
          "data": {
            "text/plain": [
              "<matplotlib.image.AxesImage at 0x7f67b0782690>"
            ]
          },
          "metadata": {},
          "execution_count": 7
        },
        {
          "output_type": "display_data",
          "data": {
            "image/png": "[encoded data removed]",
            "text/plain": [
              "<Figure size 432x288 with 1 Axes>"
            ]
          },
          "metadata": {
            "needs_background": "light"
          }
        }
      ]
    },
    {
      "cell_type": "markdown",
      "metadata": {
        "id": "fSZ_r9yOHbFu"
      },
      "source": [
        "Reshape the data to fit the model"
      ]
    },
    {
      "cell_type": "code",
      "metadata": {
        "id": "SS3RNsTlRNlN"
      },
      "source": [
        "X_train = X_train.reshape(60000, 28,28,1)\n",
        "X_test = X_test.reshape(10000, 28, 28, 1)"
      ],
      "execution_count": null,
      "outputs": []
    },
    {
      "cell_type": "markdown",
      "metadata": {
        "id": "Bgdn6zS7Hr5I"
      },
      "source": [
        "One-Hot Encode Y datasets to input into the neural network"
      ]
    },
    {
      "cell_type": "code",
      "metadata": {
        "id": "JP6DfJeKHgQy"
      },
      "source": [
        "y_train_one_hot = to_categorical(y_train)\n",
        "y_test_one_hot = to_categorical(y_test)"
      ],
      "execution_count": null,
      "outputs": []
    },
    {
      "cell_type": "markdown",
      "metadata": {
        "id": "yP9Fd64lHjXp"
      },
      "source": [
        "Print the new label"
      ]
    },
    {
      "cell_type": "code",
      "metadata": {
        "id": "v9yDkgiLHiX1",
        "colab": {
          "base_uri": "https://localhost:8080/"
        },
        "outputId": "3118174a-a58b-48f0-b6c1-9a4948a8a477"
      },
      "source": [
        "print(y_train_one_hot[59999])"
      ],
      "execution_count": null,
      "outputs": [
        {
          "output_type": "stream",
          "text": [
            "[0. 0. 0. 0. 0. 0. 0. 0. 1. 0.]\n"
          ],
          "name": "stdout"
        }
      ]
    },
    {
      "cell_type": "markdown",
      "metadata": {
        "id": "kRbdAny6iGDH"
      },
      "source": [
        "we see a label 1 at index=8 therefore the data in encoded"
      ]
    },
    {
      "cell_type": "markdown",
      "metadata": {
        "id": "JzqaXgrCgRa-"
      },
      "source": [
        "Building the Convoluted Neural Network"
      ]
    },
    {
      "cell_type": "code",
      "metadata": {
        "id": "652gfqZUgGyi"
      },
      "source": [
        "model = Sequential()"
      ],
      "execution_count": null,
      "outputs": []
    },
    {
      "cell_type": "markdown",
      "metadata": {
        "id": "Zq0G_5YDielV"
      },
      "source": [
        "Adding layers to the model"
      ]
    },
    {
      "cell_type": "code",
      "metadata": {
        "id": "Qq3vmt9ggYqD"
      },
      "source": [
        "model.add(Conv2D(64, kernel_size=3, activation='relu', input_shape=(28,28,1)))#the layer extracts features from the input image, and create 64 channels of ReLu 3x3 convolved features\n",
        "model.add(Conv2D(32, kernel_size=3, activation='relu'))#the layer extracts features from the input image, and create 32 channels of ReLu 3x3 convolved features\n",
        "model.add(Flatten())#Flattens the image into a 1D Array to feed into and connect with the neural network\n",
        "model.add(Dense(10, activation='softmax'))# The last layer has 10 neurons because we have 10 labels"
      ],
      "execution_count": null,
      "outputs": []
    },
    {
      "cell_type": "markdown",
      "metadata": {
        "id": "2VFjs1sJi0Ml"
      },
      "source": [
        "Compile the model"
      ]
    },
    {
      "cell_type": "code",
      "metadata": {
        "id": "0DL9Thm8ibpK"
      },
      "source": [
        "model.compile(optimizer='adam', loss='categorical_crossentropy', metrics=['accuracy'])"
      ],
      "execution_count": null,
      "outputs": []
    },
    {
      "cell_type": "markdown",
      "metadata": {
        "id": "qwOJ-JpajkqA"
      },
      "source": [
        "we use categorical_cross entropy because classes are more that 2"
      ]
    },
    {
      "cell_type": "markdown",
      "metadata": {
        "id": "uGLDkGz3j5__"
      },
      "source": [
        "#Training the model"
      ]
    },
    {
      "cell_type": "markdown",
      "metadata": {
        "id": "XtL1buYDkD0o"
      },
      "source": [
        "training the model using encoded data"
      ]
    },
    {
      "cell_type": "code",
      "metadata": {
        "colab": {
          "base_uri": "https://localhost:8080/"
        },
        "id": "QcsFK9JJjf_5",
        "outputId": "7e4227b0-4220-4d4a-9ce1-b5dfaedea12a"
      },
      "source": [
        "hist = model.fit(X_train, y_train_one_hot, validation_data=(X_test, y_test_one_hot), epochs=3)"
      ],
      "execution_count": null,
      "outputs": [
        {
          "output_type": "stream",
          "text": [
            "Epoch 1/3\n",
            "1875/1875 [==============================] - 167s 89ms/step - loss: 0.2106 - accuracy: 0.9500 - val_loss: 0.0956 - val_accuracy: 0.9723\n",
            "Epoch 2/3\n",
            "1875/1875 [==============================] - 167s 89ms/step - loss: 0.0683 - accuracy: 0.9794 - val_loss: 0.0859 - val_accuracy: 0.9750\n",
            "Epoch 3/3\n",
            "1875/1875 [==============================] - 166s 89ms/step - loss: 0.0481 - accuracy: 0.9850 - val_loss: 0.1197 - val_accuracy: 0.9692\n"
          ],
          "name": "stdout"
        }
      ]
    },
    {
      "cell_type": "markdown",
      "metadata": {
        "id": "k3frN3cbkV9A"
      },
      "source": [
        "Show predictions as probabilites for a random range of images in the test set"
      ]
    },
    {
      "cell_type": "code",
      "metadata": {
        "colab": {
          "base_uri": "https://localhost:8080/"
        },
        "id": "0fs1m4jKkSHg",
        "outputId": "03d13f66-0a91-49af-deed-d76987b54108"
      },
      "source": [
        "predictions = model.predict(X_test[9945:9949])\n",
        "predictions"
      ],
      "execution_count": null,
      "outputs": [
        {
          "output_type": "execute_result",
          "data": {
            "text/plain": [
              "array([[1.1602601e-09, 3.2361963e-06, 1.8892485e-10, 8.5016081e-06,\n",
              "        8.3789334e-02, 1.3663000e-06, 2.9566108e-10, 1.4770543e-03,\n",
              "        1.7296055e-05, 9.1470313e-01],\n",
              "       [1.5029383e-09, 9.9993694e-01, 2.3922346e-05, 3.6893402e-09,\n",
              "        9.9867214e-07, 9.1245198e-09, 4.1901114e-12, 5.2495470e-06,\n",
              "        1.2145497e-05, 2.0762916e-05],\n",
              "       [6.6296241e-05, 1.7790386e-08, 1.3990754e-05, 2.7584865e-10,\n",
              "        9.9990904e-01, 6.5109346e-10, 7.1316060e-09, 1.1752662e-06,\n",
              "        8.6018536e-12, 9.4783254e-06],\n",
              "       [9.9999917e-01, 1.3534467e-13, 3.7709867e-07, 2.3679939e-10,\n",
              "        4.6467197e-13, 6.7096977e-08, 2.9404021e-10, 3.3051139e-13,\n",
              "        3.7921959e-07, 3.8995016e-11]], dtype=float32)"
            ]
          },
          "metadata": {},
          "execution_count": 40
        }
      ]
    },
    {
      "cell_type": "markdown",
      "metadata": {
        "id": "8Azfc5T9kukc"
      },
      "source": [
        "Printing the predicitons as number labels"
      ]
    },
    {
      "cell_type": "code",
      "metadata": {
        "colab": {
          "base_uri": "https://localhost:8080/"
        },
        "id": "Edu8u9T5kqCy",
        "outputId": "300cf7f5-b104-4cf7-ec4a-a05677b70a1a"
      },
      "source": [
        "print(\"Predicted labels\")\n",
        "print(np.argmax(predictions, axis=1))"
      ],
      "execution_count": null,
      "outputs": [
        {
          "output_type": "stream",
          "text": [
            "Predicted labels\n",
            "[9 1 4 0]\n"
          ],
          "name": "stdout"
        }
      ]
    },
    {
      "cell_type": "markdown",
      "metadata": {
        "id": "BZFNqyS5k0Ry"
      },
      "source": [
        "Printing the actual labels"
      ]
    },
    {
      "cell_type": "code",
      "metadata": {
        "colab": {
          "base_uri": "https://localhost:8080/"
        },
        "id": "w2MQ02oZk58f",
        "outputId": "08a9c780-90c7-4b35-e2da-860a0869d86d"
      },
      "source": [
        "print(\"Actual labels\")\n",
        "print(y_test[9945:9949])"
      ],
      "execution_count": null,
      "outputs": [
        {
          "output_type": "stream",
          "text": [
            "Actual labels\n",
            "[9 1 4 0]\n"
          ],
          "name": "stdout"
        }
      ]
    },
    {
      "cell_type": "markdown",
      "metadata": {
        "id": "bBUV62bIph0n"
      },
      "source": [
        "We see here that the actual labels match the labels predicted by the model"
      ]
    }
  ]
}